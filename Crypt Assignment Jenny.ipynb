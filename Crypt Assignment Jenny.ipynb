{
 "cells": [
  {
   "cell_type": "markdown",
   "id": "64b1279e",
   "metadata": {},
   "source": [
    "### Tokenization and Attribute-Based Access Control (ABAC)"
   ]
  },
  {
   "cell_type": "code",
   "execution_count": 1,
   "id": "c148fac2",
   "metadata": {},
   "outputs": [],
   "source": [
    "import uuid\n",
    "\n",
    "def is_sensitive_data(value):\n",
    "    \"\"\"Simple example for demonstration. Replace with a more comprehensive check as needed.\"\"\"\n",
    "    sensitive_fields = ['name', 'address', 'diagnosis', 'social_security_number']\n",
    "    return any(field in value for field in sensitive_fields)\n",
    "\n",
    "def tokenize_data(data):\n",
    "    tokenized = {}\n",
    "    token_mapping = {}  # Store mapping for later retrieval\n",
    "    for key, value in data.items():\n",
    "        if is_sensitive_data(value):\n",
    "            token = str(uuid.uuid4())\n",
    "            tokenized[key] = token\n",
    "            token_mapping[token] = value\n",
    "        else:\n",
    "            tokenized[key] = value\n",
    "    return tokenized, token_mapping  # Return both tokenized data and mapping\n",
    "\n",
    "def abac_policy_check(user_attributes, resource_attributes):\n",
    "    # Implement policy logic to determine access based on attributes\n",
    "    # Example:\n",
    "    if user_attributes['role'] == 'doctor' and resource_attributes['sensitivity'] == 'high':\n",
    "        return True\n",
    "    else:\n",
    "        return False"
   ]
  },
  {
   "cell_type": "code",
   "execution_count": 2,
   "id": "eb26ce3b",
   "metadata": {},
   "outputs": [
    {
     "name": "stdout",
     "output_type": "stream",
     "text": [
      "({'name': 'John Doe', 'address': '123 Main St', 'diagnosis': 'cancer'}, {})\n",
      "Access granted\n"
     ]
    }
   ],
   "source": [
    "sensitive_data = {'name': 'John Doe', 'address': '123 Main St', 'diagnosis': 'cancer'}\n",
    "tokenized_data = tokenize_data(sensitive_data)\n",
    "print(tokenized_data)  # Output: {'name': 'token1', 'address': 'token2', 'diagnosis': 'token3'}\n",
    "\n",
    "# ABAC policy check (example)\n",
    "user_attributes = {'role': 'doctor'}\n",
    "resource_attributes = {'sensitivity': 'high'}\n",
    "if abac_policy_check(user_attributes, resource_attributes):\n",
    "    print(\"Access granted\")\n",
    "else:\n",
    "    print(\"Access denied\")"
   ]
  }
 ],
 "metadata": {
  "kernelspec": {
   "display_name": "Python 3 (ipykernel)",
   "language": "python",
   "name": "python3"
  },
  "language_info": {
   "codemirror_mode": {
    "name": "ipython",
    "version": 3
   },
   "file_extension": ".py",
   "mimetype": "text/x-python",
   "name": "python",
   "nbconvert_exporter": "python",
   "pygments_lexer": "ipython3",
   "version": "3.9.18"
  }
 },
 "nbformat": 4,
 "nbformat_minor": 5
}
